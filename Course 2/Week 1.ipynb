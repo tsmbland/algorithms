{
 "cells": [
  {
   "cell_type": "code",
   "execution_count": 1,
   "metadata": {},
   "outputs": [],
   "source": [
    "from collections import defaultdict"
   ]
  },
  {
   "cell_type": "markdown",
   "metadata": {},
   "source": [
    "### Functions"
   ]
  },
  {
   "cell_type": "code",
   "execution_count": 19,
   "metadata": {},
   "outputs": [],
   "source": [
    "# Depth first search (recursive version)\n",
    "# Maxes out recursion depth on assignment data\n",
    "\n",
    "def dfs_loop_v1(G: dict, order:list):\n",
    "    f = []  # finishing order\n",
    "    explored = {i:False for i in order}\n",
    "    s = None  # leader\n",
    "    l = defaultdict(list)  # dictionary of leaders\n",
    "    \n",
    "    def dfs(G: dict, i:int):\n",
    "        nonlocal explored, f, s, l\n",
    "        explored[i] = True\n",
    "        for j in G[i]:\n",
    "            if not explored[j]:\n",
    "                dfs(G, j)\n",
    "        \n",
    "        f.append(i)\n",
    "        l[s].append(i)\n",
    "    \n",
    "    for i in order:\n",
    "        if not explored[i]: \n",
    "            s = i\n",
    "            dfs(G, i)\n",
    "                   \n",
    "    return f, l"
   ]
  },
  {
   "cell_type": "code",
   "execution_count": 20,
   "metadata": {
    "scrolled": false
   },
   "outputs": [],
   "source": [
    "# Depth first search (iterative version)\n",
    "\n",
    "def dfs_loop_v2(G: dict, order):\n",
    "    f = []  # finishing order\n",
    "    explored = {i:False for i in order}\n",
    "    s = None  # leader\n",
    "    l = defaultdict(list)  # dictionary of leaders\n",
    "    \n",
    "    stack = []\n",
    "    for i in order:\n",
    "        if not explored[i]:\n",
    "            s = i\n",
    "            stack.append(i)\n",
    "            explored[i] = True\n",
    "            while stack:\n",
    "                current_node = stack[-1]\n",
    "                children = False\n",
    "                for j in G[current_node]:\n",
    "                    if not explored[j]:\n",
    "                        children = True\n",
    "                        stack.append(j)\n",
    "                        explored[j] = True\n",
    "                if not children:\n",
    "                    del stack[-1]\n",
    "                    f.append(current_node)\n",
    "                    l[s].append(current_node)\n",
    "            \n",
    "    return f, l"
   ]
  },
  {
   "cell_type": "markdown",
   "metadata": {},
   "source": [
    "### Test"
   ]
  },
  {
   "cell_type": "code",
   "execution_count": 27,
   "metadata": {},
   "outputs": [],
   "source": [
    "test = {1:[7],\n",
    "       2:[5],\n",
    "       3:[9],\n",
    "       4:[1],\n",
    "       5:[8],\n",
    "       6:[8,3],\n",
    "       7:[9,4],\n",
    "       8:[2],\n",
    "       9:[6],\n",
    "       }\n",
    "\n",
    "ft, lt = dfs_loop_v2(test, order=range(9, 0, -1))"
   ]
  },
  {
   "cell_type": "code",
   "execution_count": 28,
   "metadata": {},
   "outputs": [
    {
     "name": "stdout",
     "output_type": "stream",
     "text": [
      "[3, 5, 2, 8, 6, 9, 1, 4, 7]\n",
      "defaultdict(<class 'list'>, {9: [3, 5, 2, 8, 6, 9], 7: [1, 4, 7]})\n"
     ]
    }
   ],
   "source": [
    "print(ft)\n",
    "print(lt)"
   ]
  },
  {
   "cell_type": "markdown",
   "metadata": {},
   "source": [
    "### Assignment"
   ]
  },
  {
   "cell_type": "code",
   "execution_count": 8,
   "metadata": {},
   "outputs": [],
   "source": [
    "# Load assignment data\n",
    "graph = defaultdict(list)\n",
    "with open('SCC.txt') as file:\n",
    "    for line in file:\n",
    "        graph[int(line.split(' ')[0])].append(int(line.split(' ')[1]))\n",
    "n = max(graph.keys())\n",
    "\n",
    "# Create reversed graph\n",
    "graph_rev = defaultdict(list)\n",
    "for key, value in graph.items():\n",
    "    for i in value:\n",
    "        graph_rev[i].append(key)"
   ]
  },
  {
   "cell_type": "code",
   "execution_count": 9,
   "metadata": {},
   "outputs": [],
   "source": [
    "# First pass: calculate finishing times on reversed graph\n",
    "f, _ = dfs_loop_v2(graph_rev, order=range(n, 0, -1))\n",
    "\n",
    "# Second pass: calculate leader nodes on forward graph\n",
    "_, l = dfs_loop_v2(graph_rev, order=f[::-1])"
   ]
  },
  {
   "cell_type": "code",
   "execution_count": 10,
   "metadata": {},
   "outputs": [],
   "source": [
    "strong_components = {i: len(j) for i, j in l.items()}"
   ]
  },
  {
   "cell_type": "code",
   "execution_count": 11,
   "metadata": {},
   "outputs": [
    {
     "name": "stdout",
     "output_type": "stream",
     "text": [
      "[615721, 1167, 775, 754, 641]\n"
     ]
    }
   ],
   "source": [
    "print(sorted(strong_components.values(), reverse=True)[:5])"
   ]
  },
  {
   "cell_type": "code",
   "execution_count": null,
   "metadata": {},
   "outputs": [],
   "source": []
  }
 ],
 "metadata": {
  "kernelspec": {
   "display_name": "Python 3",
   "language": "python",
   "name": "python3"
  },
  "language_info": {
   "codemirror_mode": {
    "name": "ipython",
    "version": 3
   },
   "file_extension": ".py",
   "mimetype": "text/x-python",
   "name": "python",
   "nbconvert_exporter": "python",
   "pygments_lexer": "ipython3",
   "version": "3.7.9"
  }
 },
 "nbformat": 4,
 "nbformat_minor": 4
}
