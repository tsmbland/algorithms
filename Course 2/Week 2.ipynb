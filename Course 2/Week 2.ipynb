{
 "cells": [
  {
   "cell_type": "code",
   "execution_count": 10,
   "metadata": {},
   "outputs": [],
   "source": [
    "from collections import defaultdict"
   ]
  },
  {
   "cell_type": "markdown",
   "metadata": {},
   "source": [
    "### Algorithm"
   ]
  },
  {
   "cell_type": "code",
   "execution_count": 36,
   "metadata": {},
   "outputs": [],
   "source": [
    "def dijkstra_naive(G, source):\n",
    "    # Slow implementation of Dijkstra's algorithm in O(m+n) time\n",
    "    \n",
    "    # Create results containers\n",
    "    X = {node: False for node in G.keys()} # in searched region\n",
    "    A = {} # shortest path distances for each node\n",
    "    B = {} # shortest path to each node from source\n",
    "\n",
    "    # Fill in for source node\n",
    "    X[source] = True\n",
    "    A[source] = 0\n",
    "    B[source] = [source]\n",
    "\n",
    "    # Dijkstra's algorithm\n",
    "    count = 1\n",
    "    while count < len(G):\n",
    "        dijkstra_scores = {}\n",
    "        for parent, edges in G.items():\n",
    "            for edge in edges:\n",
    "                child = edge[0]\n",
    "                if X[parent] and not X[child]:\n",
    "                    distance = edge[1]\n",
    "                    score = A[parent] + distance\n",
    "                    dijkstra_scores[(parent, child)] = score\n",
    "\n",
    "        min_edge = min(dijkstra_scores, key=dijkstra_scores.get)\n",
    "        parent = min_edge[0]\n",
    "        child = min_edge[1]\n",
    "        score = dijkstra_scores[min_edge]\n",
    "        X[child] = True\n",
    "        A[child] = score\n",
    "        B[child] = B[parent] + [child]\n",
    "        count += 1\n",
    "    \n",
    "    return A"
   ]
  },
  {
   "cell_type": "markdown",
   "metadata": {},
   "source": [
    "### Test"
   ]
  },
  {
   "cell_type": "code",
   "execution_count": 37,
   "metadata": {},
   "outputs": [],
   "source": [
    "# Structure: {parent: (child, distance)}\n",
    "graph_test = {1: [(2,1), (3,4)], 2: [(3,2), (4,6)], 3:[(4,3)], 4:[]}"
   ]
  },
  {
   "cell_type": "code",
   "execution_count": 38,
   "metadata": {},
   "outputs": [
    {
     "data": {
      "text/plain": [
       "{1: 0, 2: 1, 3: 3, 4: 6}"
      ]
     },
     "execution_count": 38,
     "metadata": {},
     "output_type": "execute_result"
    }
   ],
   "source": [
    "dijkstra_naive(graph_test, 1)"
   ]
  },
  {
   "cell_type": "markdown",
   "metadata": {},
   "source": [
    "### Assignment"
   ]
  },
  {
   "cell_type": "code",
   "execution_count": 39,
   "metadata": {
    "scrolled": false
   },
   "outputs": [],
   "source": [
    "# Import data\n",
    "graph = defaultdict(list)\n",
    "with open('dijkstraData.txt') as file:\n",
    "    for line in file:\n",
    "        items = line.rstrip().split('\\t')\n",
    "        parent = int(items[0])\n",
    "        for i in items[1:]:\n",
    "            a = i.split(',')\n",
    "            edge = (int(a[0]), int(a[1]))\n",
    "            graph[parent].append(edge)"
   ]
  },
  {
   "cell_type": "code",
   "execution_count": 41,
   "metadata": {
    "scrolled": false
   },
   "outputs": [],
   "source": [
    "A = dijkstra_naive(graph, 1)"
   ]
  },
  {
   "cell_type": "code",
   "execution_count": 42,
   "metadata": {},
   "outputs": [
    {
     "name": "stdout",
     "output_type": "stream",
     "text": [
      "2599\n",
      "2610\n",
      "2947\n",
      "2052\n",
      "2367\n",
      "2399\n",
      "2029\n",
      "2442\n",
      "2505\n",
      "3068\n"
     ]
    }
   ],
   "source": [
    "for i in [7,37,59,82,99,115,133,165,188,197]:\n",
    "    print(A[i])"
   ]
  },
  {
   "cell_type": "markdown",
   "metadata": {},
   "source": [
    "### To do: implement heap based version"
   ]
  },
  {
   "cell_type": "code",
   "execution_count": null,
   "metadata": {},
   "outputs": [],
   "source": []
  }
 ],
 "metadata": {
  "kernelspec": {
   "display_name": "Python 3",
   "language": "python",
   "name": "python3"
  },
  "language_info": {
   "codemirror_mode": {
    "name": "ipython",
    "version": 3
   },
   "file_extension": ".py",
   "mimetype": "text/x-python",
   "name": "python",
   "nbconvert_exporter": "python",
   "pygments_lexer": "ipython3",
   "version": "3.7.9"
  }
 },
 "nbformat": 4,
 "nbformat_minor": 4
}
