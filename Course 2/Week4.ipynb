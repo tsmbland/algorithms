{
 "cells": [
  {
   "cell_type": "code",
   "execution_count": 1,
   "metadata": {},
   "outputs": [],
   "source": [
    "import numpy as np"
   ]
  },
  {
   "cell_type": "code",
   "execution_count": 20,
   "metadata": {},
   "outputs": [],
   "source": [
    "data = np.loadtxt('2sum.txt')"
   ]
  },
  {
   "cell_type": "markdown",
   "metadata": {},
   "source": [
    "### Naive implementation (runs really slow)"
   ]
  },
  {
   "cell_type": "code",
   "execution_count": 40,
   "metadata": {},
   "outputs": [],
   "source": [
    "# data_dict = {int(i):None for i in data}\n",
    "# count = 0\n",
    "# for i in range(-10000, 10001):\n",
    "#     for j in data_dict.keys():\n",
    "#         target = i - j\n",
    "#         if target != j and target in data_dict:\n",
    "#             count += 1\n",
    "#             break        "
   ]
  },
  {
   "cell_type": "markdown",
   "metadata": {},
   "source": [
    "### Two sum approach"
   ]
  },
  {
   "cell_type": "code",
   "execution_count": 36,
   "metadata": {},
   "outputs": [],
   "source": [
    "data_sorted = np.sort(data)\n",
    "left_pointer = 0\n",
    "right_pointer = len(data) - 1\n",
    "saved = {}\n",
    "while left_pointer < right_pointer:\n",
    "    s = data_sorted[left_pointer] + data_sorted[right_pointer]\n",
    "    if s < -10000:\n",
    "        left_pointer += 1\n",
    "    elif s > 10000:\n",
    "        right_pointer -= 1\n",
    "    else:\n",
    "        new_right_pointer = right_pointer\n",
    "        while left_pointer < new_right_pointer:\n",
    "            s = data_sorted[left_pointer] + data_sorted[new_right_pointer]\n",
    "            if not s < -10000:\n",
    "                saved[s] = None\n",
    "                new_right_pointer -= 1 \n",
    "            else:\n",
    "                left_pointer += 1\n",
    "                break"
   ]
  },
  {
   "cell_type": "code",
   "execution_count": 37,
   "metadata": {},
   "outputs": [
    {
     "name": "stdout",
     "output_type": "stream",
     "text": [
      "427\n"
     ]
    }
   ],
   "source": [
    "print(len(saved))"
   ]
  },
  {
   "cell_type": "code",
   "execution_count": null,
   "metadata": {},
   "outputs": [],
   "source": []
  }
 ],
 "metadata": {
  "kernelspec": {
   "display_name": "Python 3",
   "language": "python",
   "name": "python3"
  },
  "language_info": {
   "codemirror_mode": {
    "name": "ipython",
    "version": 3
   },
   "file_extension": ".py",
   "mimetype": "text/x-python",
   "name": "python",
   "nbconvert_exporter": "python",
   "pygments_lexer": "ipython3",
   "version": "3.7.9"
  }
 },
 "nbformat": 4,
 "nbformat_minor": 4
}
