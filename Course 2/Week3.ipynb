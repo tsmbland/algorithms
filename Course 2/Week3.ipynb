{
 "cells": [
  {
   "cell_type": "code",
   "execution_count": 26,
   "metadata": {},
   "outputs": [],
   "source": [
    "import numpy as np\n",
    "import heapq\n",
    "import matplotlib.pyplot as plt"
   ]
  },
  {
   "cell_type": "code",
   "execution_count": 27,
   "metadata": {},
   "outputs": [],
   "source": [
    "# Import data\n",
    "data = list(np.loadtxt('Median.txt'))\n",
    "# print(data)"
   ]
  },
  {
   "cell_type": "code",
   "execution_count": 37,
   "metadata": {},
   "outputs": [],
   "source": [
    "def func(data):\n",
    "    running_median = []\n",
    "    heap_low = [] # max heap so must invert the sign on everything thay goes in/out\n",
    "    heap_high = []\n",
    "    \n",
    "    heap_low_max = np.inf\n",
    "    heap_high_min = np.inf\n",
    "    for d in data:\n",
    "        \n",
    "        # Add to a heap\n",
    "        if d >= heap_high_min:\n",
    "            heapq.heappush(heap_high, d)\n",
    "                \n",
    "            # Rebalance\n",
    "            if len(heap_high) > len(heap_low):\n",
    "                a = heapq.heappop(heap_high)\n",
    "                heapq.heappush(heap_low, - a)\n",
    "\n",
    "        else: # d <= heap_low_max or inbetween\n",
    "            heapq.heappush(heap_low, - d)\n",
    "            \n",
    "            # Rebalance\n",
    "            if len(heap_low) > len(heap_high) + 1:\n",
    "                a = heapq.heappop(heap_low)\n",
    "                heapq.heappush(heap_high, - a)\n",
    "                \n",
    "        # Extract max/min\n",
    "        heap_low_max = - heap_low[0] # first one will always go in here\n",
    "        if len(heap_high) > 0:\n",
    "            heap_high_min = heap_high[0]\n",
    "            \n",
    "        # Median (always the highest from the low heap due to the way I've set it all up)\n",
    "        running_median.append(heap_low_max)\n",
    "            \n",
    "    return running_median"
   ]
  },
  {
   "cell_type": "code",
   "execution_count": 38,
   "metadata": {},
   "outputs": [],
   "source": [
    "a = func(data)"
   ]
  },
  {
   "cell_type": "code",
   "execution_count": 40,
   "metadata": {},
   "outputs": [],
   "source": [
    "# fig, ax = plt.subplots()\n",
    "# ax.plot(a)"
   ]
  },
  {
   "cell_type": "code",
   "execution_count": 41,
   "metadata": {},
   "outputs": [
    {
     "data": {
      "text/plain": [
       "46831213.0"
      ]
     },
     "execution_count": 41,
     "metadata": {},
     "output_type": "execute_result"
    }
   ],
   "source": [
    "# Calculating assignment answer\n",
    "sum(a)"
   ]
  },
  {
   "cell_type": "code",
   "execution_count": null,
   "metadata": {},
   "outputs": [],
   "source": [
    "# -> answer is 1213"
   ]
  }
 ],
 "metadata": {
  "kernelspec": {
   "display_name": "Python 3",
   "language": "python",
   "name": "python3"
  },
  "language_info": {
   "codemirror_mode": {
    "name": "ipython",
    "version": 3
   },
   "file_extension": ".py",
   "mimetype": "text/x-python",
   "name": "python",
   "nbconvert_exporter": "python",
   "pygments_lexer": "ipython3",
   "version": "3.7.9"
  }
 },
 "nbformat": 4,
 "nbformat_minor": 4
}
