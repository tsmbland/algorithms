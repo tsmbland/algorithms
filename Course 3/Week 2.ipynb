{
 "cells": [
  {
   "cell_type": "code",
   "execution_count": 1,
   "metadata": {},
   "outputs": [],
   "source": [
    "import numpy as np"
   ]
  },
  {
   "cell_type": "markdown",
   "metadata": {},
   "source": [
    "### Clustering"
   ]
  },
  {
   "cell_type": "code",
   "execution_count": 2,
   "metadata": {},
   "outputs": [],
   "source": [
    "# Import\n",
    "edges = []\n",
    "parents = []\n",
    "children = []\n",
    "with open('clustering1.txt') as file:\n",
    "    n = int(file.readline())\n",
    "    next(file)\n",
    "    for f in file:\n",
    "        line = f.strip().split(' ')\n",
    "        parents.append(int(line[0])-1)\n",
    "        children.append(int(line[1])-1)\n",
    "        edges.append(int(line[2]))"
   ]
  },
  {
   "cell_type": "code",
   "execution_count": 16,
   "metadata": {
    "scrolled": false
   },
   "outputs": [],
   "source": [
    "def cluster(edges, parents, children, n, k):\n",
    "    \n",
    "    # Sort \n",
    "    edges, parents, children = zip(*sorted(zip(edges, parents, children)))\n",
    "\n",
    "    # Initialise groups\n",
    "    groups = np.arange(n)\n",
    "\n",
    "    # Sizes\n",
    "    sizes = np.ones(n)\n",
    "\n",
    "    # Algorithm\n",
    "    n_groups = n\n",
    "    i = 0\n",
    "    while n_groups > k:\n",
    "        \n",
    "        # Sort through edges in order\n",
    "        e, p, c = edges[i], parents[i], children[i]\n",
    "        group_p = groups[p]\n",
    "        group_c = groups[c]\n",
    "        \n",
    "        # Union (if not in same group)\n",
    "        if group_p != group_c:\n",
    "            size_p = sizes[group_p]\n",
    "            size_c = sizes[group_c]\n",
    "            \n",
    "            # Join smaller group to larger group\n",
    "            if size_p > size_c:\n",
    "                for j in range(len(groups)):\n",
    "                    if groups[j] == group_c:\n",
    "                        groups[j] = group_p\n",
    "                sizes[group_p] += size_c\n",
    "                sizes[group_c] = 0\n",
    "            else:\n",
    "                for j in range(len(groups)):\n",
    "                    if groups[j] == group_p:\n",
    "                        groups[j] = group_c\n",
    "                sizes[group_c] += size_p\n",
    "                sizes[group_p] = 0\n",
    "\n",
    "            # Adjust group count\n",
    "            n_groups -= 1\n",
    "        \n",
    "        # Iterate to next edge\n",
    "        i += 1\n",
    "        print(groups)\n",
    "        \n",
    "    return groups, sizes, edges[i]"
   ]
  },
  {
   "cell_type": "code",
   "execution_count": 17,
   "metadata": {},
   "outputs": [],
   "source": [
    "# groups, sizes, dist = cluster(edges, parents, children, n, k=4)"
   ]
  },
  {
   "cell_type": "code",
   "execution_count": 24,
   "metadata": {},
   "outputs": [
    {
     "name": "stdout",
     "output_type": "stream",
     "text": [
      "[1 1 2 3]\n",
      "[1 1 3 3]\n",
      "5\n"
     ]
    }
   ],
   "source": [
    "parents = [0, 0, 0, 1, 1, 2]\n",
    "children = [1, 2, 3, 2, 3, 3]\n",
    "edges = [1, 5, 5, 5, 5, 1]\n",
    "\n",
    "groups, sizes, dist = cluster(edges, parents, children, n=4, k=2)\n",
    "print(dist)"
   ]
  },
  {
   "cell_type": "markdown",
   "metadata": {},
   "source": [
    "### Clustening BIG"
   ]
  },
  {
   "cell_type": "code",
   "execution_count": 52,
   "metadata": {},
   "outputs": [
    {
     "name": "stdout",
     "output_type": "stream",
     "text": [
      "200000 24\n",
      "\n"
     ]
    }
   ],
   "source": [
    "# Import\n",
    "nodes = set()\n",
    "with open('clustering_big.txt') as file:\n",
    "    print(file.readline())\n",
    "    next(file)\n",
    "    for f in file:\n",
    "        i = int(f.strip()[::2])\n",
    "        nodes.add(i)"
   ]
  },
  {
   "cell_type": "code",
   "execution_count": 54,
   "metadata": {},
   "outputs": [
    {
     "ename": "TypeError",
     "evalue": "'set' object is not subscriptable",
     "output_type": "error",
     "traceback": [
      "\u001b[0;31m---------------------------------------------------------------------------\u001b[0m",
      "\u001b[0;31mTypeError\u001b[0m                                 Traceback (most recent call last)",
      "\u001b[0;32m<ipython-input-54-1e1a656e61af>\u001b[0m in \u001b[0;36m<module>\u001b[0;34m\u001b[0m\n\u001b[0;32m----> 1\u001b[0;31m \u001b[0mprint\u001b[0m\u001b[0;34m(\u001b[0m\u001b[0mnodes\u001b[0m\u001b[0;34m[\u001b[0m\u001b[0;34m:\u001b[0m\u001b[0;36m10\u001b[0m\u001b[0;34m]\u001b[0m\u001b[0;34m)\u001b[0m\u001b[0;34m\u001b[0m\u001b[0;34m\u001b[0m\u001b[0m\n\u001b[0m",
      "\u001b[0;31mTypeError\u001b[0m: 'set' object is not subscriptable"
     ]
    }
   ],
   "source": [
    "print(nodes[:10])"
   ]
  },
  {
   "cell_type": "code",
   "execution_count": null,
   "metadata": {},
   "outputs": [],
   "source": []
  }
 ],
 "metadata": {
  "kernelspec": {
   "display_name": "Python 3",
   "language": "python",
   "name": "python3"
  },
  "language_info": {
   "codemirror_mode": {
    "name": "ipython",
    "version": 3
   },
   "file_extension": ".py",
   "mimetype": "text/x-python",
   "name": "python",
   "nbconvert_exporter": "python",
   "pygments_lexer": "ipython3",
   "version": "3.7.9"
  }
 },
 "nbformat": 4,
 "nbformat_minor": 4
}
