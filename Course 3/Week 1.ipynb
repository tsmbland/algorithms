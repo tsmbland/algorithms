{
 "cells": [
  {
   "cell_type": "code",
   "execution_count": 42,
   "metadata": {},
   "outputs": [],
   "source": [
    "import numpy as np\n",
    "import pandas as pd"
   ]
  },
  {
   "cell_type": "markdown",
   "metadata": {},
   "source": [
    "### Task 1 and 2"
   ]
  },
  {
   "cell_type": "code",
   "execution_count": 52,
   "metadata": {},
   "outputs": [],
   "source": [
    "weights = np.zeros(10000)\n",
    "lengths = np.zeros(10000)\n",
    "with open('jobs.txt') as file:\n",
    "    next(file)\n",
    "    for i, l in enumerate(file):\n",
    "        a = l.rstrip().split(' ')\n",
    "        weights[i] = int(a[0])\n",
    "        lengths[i] = int(a[1])\n",
    "diffs = weights - lengths\n",
    "ratios = weights/lengths"
   ]
  },
  {
   "cell_type": "code",
   "execution_count": 53,
   "metadata": {},
   "outputs": [],
   "source": [
    "df = pd.DataFrame({'weights': weights, 'lengths': lengths, 'diffs': diffs, 'ratios': ratios})"
   ]
  },
  {
   "cell_type": "code",
   "execution_count": 54,
   "metadata": {},
   "outputs": [
    {
     "data": {
      "text/plain": [
       "69119377652.0"
      ]
     },
     "execution_count": 54,
     "metadata": {},
     "output_type": "execute_result"
    }
   ],
   "source": [
    "### Task 1\n",
    "df1 = df.sort_values(by=['diffs', 'weights'], ascending=False)\n",
    "df1['completion_time'] = df1['lengths'].cumsum(axis=0)\n",
    "df1['weighted_completion_time'] = df1['completion_time'] * df1['weights']\n",
    "df1['weighted_completion_time'].sum()"
   ]
  },
  {
   "cell_type": "code",
   "execution_count": 55,
   "metadata": {},
   "outputs": [
    {
     "data": {
      "text/plain": [
       "67311454237.0"
      ]
     },
     "execution_count": 55,
     "metadata": {},
     "output_type": "execute_result"
    }
   ],
   "source": [
    "### Task 2\n",
    "df2 = df.sort_values(by=['ratios'], ascending=False)\n",
    "df2['completion_time'] = df2['lengths'].cumsum(axis=0)\n",
    "df2['weighted_completion_time'] = df2['completion_time'] * df2['weights']\n",
    "df2['weighted_completion_time'].sum()"
   ]
  },
  {
   "cell_type": "markdown",
   "metadata": {},
   "source": [
    "### Task 3 (slow implementation)"
   ]
  },
  {
   "cell_type": "code",
   "execution_count": 70,
   "metadata": {},
   "outputs": [],
   "source": [
    "edges = []\n",
    "with open('edges.txt') as f:\n",
    "    next(f)\n",
    "    for l in f:\n",
    "        edges.append([int(i) for i in l.rstrip().split(' ')])"
   ]
  },
  {
   "cell_type": "code",
   "execution_count": 72,
   "metadata": {
    "scrolled": false
   },
   "outputs": [],
   "source": [
    "X = {1}  # nodes explored so far\n",
    "T = []  # edges in MST\n",
    "while len(X) < 500:\n",
    "    min_cost = np.inf\n",
    "    saved_edge = None\n",
    "    for e in edges:\n",
    "        if e[0] in X and e[1] not in X:\n",
    "            if e[2] < min_cost:\n",
    "                min_cost = e[2]\n",
    "                saved_edge = e\n",
    "    X.add(saved_edge[1])\n",
    "    T.append(saved_edge)"
   ]
  },
  {
   "cell_type": "code",
   "execution_count": 73,
   "metadata": {},
   "outputs": [
    {
     "data": {
      "text/plain": [
       "-885636"
      ]
     },
     "execution_count": 73,
     "metadata": {},
     "output_type": "execute_result"
    }
   ],
   "source": [
    "# Overall cost\n",
    "sum(e[2] for e in T)"
   ]
  },
  {
   "cell_type": "markdown",
   "metadata": {},
   "source": [
    "### Task 3 (heap implementation)"
   ]
  },
  {
   "cell_type": "code",
   "execution_count": null,
   "metadata": {},
   "outputs": [],
   "source": []
  }
 ],
 "metadata": {
  "kernelspec": {
   "display_name": "Python 3",
   "language": "python",
   "name": "python3"
  },
  "language_info": {
   "codemirror_mode": {
    "name": "ipython",
    "version": 3
   },
   "file_extension": ".py",
   "mimetype": "text/x-python",
   "name": "python",
   "nbconvert_exporter": "python",
   "pygments_lexer": "ipython3",
   "version": "3.7.9"
  }
 },
 "nbformat": 4,
 "nbformat_minor": 4
}
