{
 "cells": [
  {
   "cell_type": "code",
   "execution_count": 251,
   "metadata": {},
   "outputs": [],
   "source": [
    "import copy\n",
    "import numpy as np\n",
    "from collections import Counter"
   ]
  },
  {
   "cell_type": "code",
   "execution_count": 123,
   "metadata": {},
   "outputs": [],
   "source": [
    "# Pivot chosen as first item\n",
    "\n",
    "def select(A:list, i:int):\n",
    "\n",
    "    def _partition(A: list, n:int):\n",
    "        \n",
    "        # Pivot position\n",
    "        p = 0 # pivot position\n",
    "\n",
    "        # Partition\n",
    "        i = 1\n",
    "        for j in range(n):\n",
    "            if A[j] < A[p]:\n",
    "                A[j], A[i] = A[i], A[j]\n",
    "                i += 1\n",
    "        A[p], A[i-1] = A[i-1], A[p]\n",
    "        return i\n",
    "\n",
    "    def _select(A: list, i:int):\n",
    "        n = len(A)\n",
    "\n",
    "        # Base case\n",
    "        if n == 1:\n",
    "            return A[0]\n",
    "\n",
    "        # Partition \n",
    "        j = _partition(A, n) - 1\n",
    "\n",
    "        # Found the target\n",
    "        if j == i:\n",
    "            return A[j]\n",
    "\n",
    "        # Recursive call\n",
    "        if i > j: # search right part\n",
    "            return _select(A[j+1:], i - j-1)\n",
    "        elif i < j: # search left part\n",
    "            return _select(A[:j], i)\n",
    "        \n",
    "    _A = copy.deepcopy(A)\n",
    "    return _select(_A, i)\n",
    "\n",
    "A = [1,2,3,4,5]\n",
    "a = select(A, 3)\n",
    "print(a)"
   ]
  },
  {
   "cell_type": "code",
   "execution_count": 227,
   "metadata": {},
   "outputs": [],
   "source": [
    "# Random contractions algorithm\n",
    "\n",
    "def karger_random_contraction(G: dict): \n",
    "    n_vertices = len(G)\n",
    "    while n_vertices > 2:\n",
    "        \n",
    "        # Choose a edge at random\n",
    "        lengths = [len(i) for i in G.values()]\n",
    "        n_edges = sum(lengths) / 2\n",
    "        weights = [l / (2 * n_edges) for l in lengths]\n",
    "        chosen_vertex = np.random.choice(list(G.keys()), 1, p=weights)[0]\n",
    "        chosen_edge = np.random.choice(G[chosen_vertex])\n",
    "        \n",
    "        # Combine\n",
    "        G[chosen_vertex].extend(G[chosen_edge])\n",
    "        del G[chosen_edge]\n",
    "        \n",
    "        # Rename chosen_edge to chosen_vertex <- inefficient\n",
    "        for i, (key, item) in enumerate(G.items()):\n",
    "            G[key] = [chosen_vertex if j == chosen_edge else j for j in item]\n",
    "            \n",
    "        # Remove self-loops\n",
    "        G[chosen_vertex] = [i for i in G[chosen_vertex] if i != chosen_vertex]\n",
    "        \n",
    "        # Recount\n",
    "        n_vertices = len(G)\n",
    "        "
   ]
  },
  {
   "cell_type": "code",
   "execution_count": 228,
   "metadata": {},
   "outputs": [
    {
     "name": "stdout",
     "output_type": "stream",
     "text": [
      "3\n",
      "3\n",
      "2\n",
      "2\n",
      "3\n",
      "3\n",
      "2\n",
      "2\n",
      "2\n",
      "3\n"
     ]
    }
   ],
   "source": [
    "for i in range(10):\n",
    "    g = {1: [2,3], 2: [1,3, 4], 3:[1,4], 4:[2,3]}\n",
    "    karger_random_contraction(g)\n",
    "    print(len(list(g.values())[0]))"
   ]
  },
  {
   "cell_type": "code",
   "execution_count": 245,
   "metadata": {},
   "outputs": [],
   "source": [
    "# Load assignment data\n",
    "graph = {}\n",
    "with open('kargerMinCutWeek4.txt') as file:\n",
    "    for line in file:\n",
    "        a = [int(i) for i in line.rstrip().split('\\t')]\n",
    "        graph[a[0]] = a[1:]"
   ]
  },
  {
   "cell_type": "code",
   "execution_count": 253,
   "metadata": {},
   "outputs": [],
   "source": [
    "# Run\n",
    "counts = []\n",
    "for i in range(100):\n",
    "    g = copy.deepcopy(graph)\n",
    "    karger_random_contraction(g)\n",
    "    counts.append(len(list(g.values())[0]))"
   ]
  },
  {
   "cell_type": "code",
   "execution_count": 254,
   "metadata": {},
   "outputs": [
    {
     "name": "stdout",
     "output_type": "stream",
     "text": [
      "Counter({20: 27, 21: 14, 22: 11, 24: 11, 26: 9, 25: 7, 23: 5, 28: 4, 31: 4, 17: 2, 32: 1, 29: 1, 51: 1, 27: 1, 50: 1, 35: 1})\n"
     ]
    }
   ],
   "source": [
    "print(Counter(counts))\n",
    "# >> answer is 20"
   ]
  },
  {
   "cell_type": "code",
   "execution_count": null,
   "metadata": {},
   "outputs": [],
   "source": []
  }
 ],
 "metadata": {
  "kernelspec": {
   "display_name": "Python 3",
   "language": "python",
   "name": "python3"
  },
  "language_info": {
   "codemirror_mode": {
    "name": "ipython",
    "version": 3
   },
   "file_extension": ".py",
   "mimetype": "text/x-python",
   "name": "python",
   "nbconvert_exporter": "python",
   "pygments_lexer": "ipython3",
   "version": "3.7.9"
  }
 },
 "nbformat": 4,
 "nbformat_minor": 4
}
