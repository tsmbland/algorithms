{
 "cells": [
  {
   "cell_type": "code",
   "execution_count": 12,
   "metadata": {},
   "outputs": [],
   "source": [
    "import numpy as np\n",
    "import math"
   ]
  },
  {
   "cell_type": "code",
   "execution_count": 2,
   "metadata": {},
   "outputs": [
    {
     "data": {
      "text/plain": [
       "([1, 1, 2, 3, 4, 5], 6)"
      ]
     },
     "execution_count": 2,
     "metadata": {},
     "output_type": "execute_result"
    }
   ],
   "source": [
    "# Counting inversions\n",
    "\n",
    "def merge_and_count_split_inversions(A: list, B: list):\n",
    "    # Merge two equal length sorted lists and count inversions\n",
    "    i = 0\n",
    "    j = 0\n",
    "    C = []\n",
    "    inversions = 0\n",
    "    for k in range(len(A) + len(B)):\n",
    "        \n",
    "        # End cases\n",
    "        if i == len(A):\n",
    "            C.append(B[j])\n",
    "            j += 1\n",
    "            continue\n",
    "        if j == len(B):\n",
    "            C.append(A[i])\n",
    "            i += 1\n",
    "            continue\n",
    "        \n",
    "        # Normal cases\n",
    "        if A[i] < B[j]:\n",
    "            C.append(A[i])\n",
    "            i += 1\n",
    "        else:\n",
    "            C.append(B[j])\n",
    "            j += 1\n",
    "            inversions += (len(A) - i)\n",
    "        \n",
    "    return C, inversions\n",
    "\n",
    "def sort_and_count_inversions(A: list):\n",
    "    n = len(A)\n",
    "    \n",
    "    # Base case\n",
    "    if n == 1:\n",
    "        return A, 0\n",
    "    \n",
    "    # Split, sort and count\n",
    "    B, x = sort_and_count_inversions(A[:(n // 2)])\n",
    "    C, y = sort_and_count_inversions(A[(n // 2):])\n",
    "    D, z = merge_and_count_split_inversions(B, C)\n",
    "    \n",
    "    return D, x + y + z\n",
    "\n",
    "sort_and_count_inversions([1,2,4, 3, 5, 1])"
   ]
  },
  {
   "cell_type": "code",
   "execution_count": 3,
   "metadata": {},
   "outputs": [
    {
     "data": {
      "text/plain": [
       "array([[8., 8., 8., 8.],\n",
       "       [8., 8., 8., 8.],\n",
       "       [8., 8., 8., 8.],\n",
       "       [8., 8., 8., 8.]])"
      ]
     },
     "execution_count": 3,
     "metadata": {},
     "output_type": "execute_result"
    }
   ],
   "source": [
    "def strassen_multiply_matrices(X: np.ndarray, Y: np.ndarray):\n",
    "    # Multiply two equal size square matrices (dimensions a power of 2)\n",
    "    n = X.shape[0]\n",
    "    \n",
    "    # Base case\n",
    "    if n == 1:\n",
    "        return X * Y\n",
    "    \n",
    "    # Split\n",
    "    splt = n // 2\n",
    "    a = X[:splt, :splt]\n",
    "    c = X[splt:, :splt]\n",
    "    b = X[:splt, splt:]\n",
    "    d = X[splt:, splt:]\n",
    "    e = Y[:splt, :splt]\n",
    "    g = Y[splt:, :splt]\n",
    "    f = Y[:splt, splt:]\n",
    "    h = Y[splt:, splt:]\n",
    "    \n",
    "    # Recursive calls\n",
    "    p1 = strassen_multiply_matrices(a, f-h)\n",
    "    p2 = strassen_multiply_matrices(a+b, h)\n",
    "    p3 = strassen_multiply_matrices(c+d, e)\n",
    "    p4 = strassen_multiply_matrices(d, g-e)\n",
    "    p5 = strassen_multiply_matrices(a+d,e+h)\n",
    "    p6 = strassen_multiply_matrices(b-d, g+h)\n",
    "    p7 = strassen_multiply_matrices(a-c, e+f)\n",
    "    \n",
    "    k1 = np.concatenate([p5 + p4 - p2 + p6, p3 + p4], axis=0)\n",
    "    k2 = np.concatenate([p1 + p2, p1 + p5 - p3 - p7], axis=0)\n",
    "    k3 = np.concatenate([k1, k2], axis=1)\n",
    "    return k3\n",
    "  \n",
    "strassen_multiply_matrices(np.ones([4,4]), 2 * np.ones([4,4]))"
   ]
  },
  {
   "cell_type": "code",
   "execution_count": 5,
   "metadata": {},
   "outputs": [
    {
     "data": {
      "text/plain": [
       "2"
      ]
     },
     "execution_count": 5,
     "metadata": {},
     "output_type": "execute_result"
    }
   ],
   "source": [
    "# Binary search (side project)\n",
    "\n",
    "def binary_search(A, T):\n",
    "    n = len(A)\n",
    "    L = 0\n",
    "    R = n - 1\n",
    "    while L <= R:\n",
    "        m = (L + R) // 2\n",
    "        if A[m] < T:\n",
    "            L = m + 1\n",
    "        elif A[m] > T:\n",
    "            R = m - 1\n",
    "        else:\n",
    "            return m\n",
    "        \n",
    "binary_search([1,2,3,3,4,5], 3)"
   ]
  },
  {
   "cell_type": "code",
   "execution_count": 8,
   "metadata": {},
   "outputs": [
    {
     "name": "stdout",
     "output_type": "stream",
     "text": [
      "2407905288\n"
     ]
    }
   ],
   "source": [
    "# Assignment\n",
    "\n",
    "IntegerArray = np.loadtxt('IntegerArrayWeek2.txt')\n",
    "_, n = sort_and_count_inversions(IntegerArray)\n",
    "print(n)"
   ]
  },
  {
   "cell_type": "code",
   "execution_count": 34,
   "metadata": {},
   "outputs": [
    {
     "data": {
      "text/plain": [
       "(8, 14, 9.0)"
      ]
     },
     "execution_count": 34,
     "metadata": {},
     "output_type": "execute_result"
    }
   ],
   "source": [
    "# Optional theory problem 1: don't have a correct answer for yet THIS IS INFURIATING!!\n",
    "\n",
    "def second_largest(A: list):\n",
    "    largest = A[0]\n",
    "    second_largest = -99999\n",
    "    n = len(A)\n",
    "    comparisons = 0\n",
    "    for i in range(1, n):\n",
    "        comparisons += 2\n",
    "        if A[i] > largest:\n",
    "            second_largest = largest\n",
    "            largest = A[i]\n",
    "            comparisons -= 1\n",
    "        elif A[i] > second_largest:\n",
    "            second_largest = A[i]\n",
    "    return second_largest, comparisons, n + math.log(n, 2) - 2\n",
    "\n",
    "second_largest([9,6,5,1,3,7,4,8])\n",
    "# This does too many comparisons"
   ]
  },
  {
   "cell_type": "code",
   "execution_count": null,
   "metadata": {},
   "outputs": [],
   "source": []
  }
 ],
 "metadata": {
  "kernelspec": {
   "display_name": "Python 3",
   "language": "python",
   "name": "python3"
  },
  "language_info": {
   "codemirror_mode": {
    "name": "ipython",
    "version": 3
   },
   "file_extension": ".py",
   "mimetype": "text/x-python",
   "name": "python",
   "nbconvert_exporter": "python",
   "pygments_lexer": "ipython3",
   "version": "3.7.9"
  }
 },
 "nbformat": 4,
 "nbformat_minor": 4
}
