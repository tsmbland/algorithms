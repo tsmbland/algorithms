{
 "cells": [
  {
   "cell_type": "code",
   "execution_count": 33,
   "metadata": {},
   "outputs": [],
   "source": [
    "import copy\n",
    "import math"
   ]
  },
  {
   "cell_type": "code",
   "execution_count": 15,
   "metadata": {},
   "outputs": [
    {
     "name": "stdout",
     "output_type": "stream",
     "text": [
      "[5, 4, 4, 2, 1]\n",
      "[4, 5, 4, 2, 1]\n",
      "[4, 4, 5, 2, 1]\n",
      "[4, 4, 2, 5, 1]\n",
      "[4, 4, 2, 1, 5]\n",
      "[4, 2, 4, 1, 5]\n",
      "[4, 2, 1, 4, 5]\n",
      "[2, 4, 1, 4, 5]\n",
      "[2, 1, 4, 4, 5]\n",
      "[1, 2, 4, 4, 5]\n"
     ]
    }
   ],
   "source": [
    "# Bubble Sort (side project)\n",
    "\n",
    "def bubble_sort(A: list):\n",
    "    L = copy.deepcopy(A)\n",
    "    print(L)\n",
    "    swapped = True\n",
    "    while swapped:\n",
    "        swapped = False\n",
    "        for i in range(1, len(L)):\n",
    "            if L[i - 1] > L[i]:\n",
    "                L[i-1], L[i] = L[i], L[i-1]\n",
    "                print(L)\n",
    "                swapped = True\n",
    "    return L\n",
    "                \n",
    "a = bubble_sort([5,4,4,2,1])"
   ]
  },
  {
   "cell_type": "code",
   "execution_count": 24,
   "metadata": {},
   "outputs": [
    {
     "name": "stdout",
     "output_type": "stream",
     "text": [
      "[1, 2, 3, 3, 3, 6, 7, 8]\n"
     ]
    }
   ],
   "source": [
    "# Merge\n",
    " \n",
    "def merge(A: list, B: list):\n",
    "    # Merge two equal length sorted lists\n",
    "    i = 0\n",
    "    j = 0\n",
    "    C = []\n",
    "    for k in range(len(A) + len(B)):\n",
    "        \n",
    "        # End cases\n",
    "        if i == len(A):\n",
    "            C.append(B[j])\n",
    "            j += 1\n",
    "            continue\n",
    "        if j == len(B):\n",
    "            C.append(A[i])\n",
    "            i += 1\n",
    "            continue\n",
    "        \n",
    "        # Normal cases\n",
    "        if A[i] < B[j]:\n",
    "            C.append(A[i])\n",
    "            i += 1\n",
    "        else:\n",
    "            C.append(B[j])\n",
    "            j += 1\n",
    "        \n",
    "    return C\n",
    "        \n",
    "a = merge([1,3,3,7], [2,3,6,8])\n",
    "print(a)"
   ]
  },
  {
   "cell_type": "code",
   "execution_count": 32,
   "metadata": {},
   "outputs": [
    {
     "name": "stdout",
     "output_type": "stream",
     "text": [
      "[0, 0, 1, 2, 3, 4, 5, 5, 6, 7, 7, 8, 9]\n"
     ]
    }
   ],
   "source": [
    "# Merge sort\n",
    "\n",
    "def merge_sort(A: list):\n",
    "    n = len(A)\n",
    "    \n",
    "    # Base case\n",
    "    if n <= 1:\n",
    "        return A\n",
    "    \n",
    "    # Recursive case: split in half\n",
    "    left = A[:(n // 2)]\n",
    "    right = A[(n // 2):]\n",
    "    left = merge_sort(left)\n",
    "    right = merge_sort(right)\n",
    "    \n",
    "    # Merge\n",
    "    return merge(left, right)\n",
    "    \n",
    "\n",
    "a = merge_sort([5,4,3,2, 7,6,9,0,0,8,7,5,1])\n",
    "print(a)"
   ]
  },
  {
   "cell_type": "code",
   "execution_count": 157,
   "metadata": {},
   "outputs": [],
   "source": [
    "# Assignment: multiplication with Karatsuba's algorithm\n",
    "\n",
    "def karatsuba(A: int, B: int):\n",
    "    \n",
    "    # Base case\n",
    "    if A < 10 or B < 10:\n",
    "        return A * B\n",
    "    \n",
    "    # Split numbers in half\n",
    "    ndigA, ndigB = math.floor(math.log(A, 10) + 1), math.floor(math.log(B, 10) + 1)\n",
    "    ndig = max(ndigA, ndigB)\n",
    "    splt = ndig // 2\n",
    "    highA = A // 10**(splt)\n",
    "    lowA = A % 10**(splt)\n",
    "    highB = B // 10**(splt)\n",
    "    lowB = B % 10**(splt)\n",
    "    \n",
    "    # Recursive call\n",
    "    z0 = karatsuba(lowA, lowB)\n",
    "    z1 = karatsuba(lowA + highA, lowB + highB)\n",
    "    z2 = karatsuba(highA, highB)\n",
    "    return (z2 * 10**(2*splt)) + ((z1 - z2 - z0) * 10**(splt)) + (z0)"
   ]
  },
  {
   "cell_type": "code",
   "execution_count": 158,
   "metadata": {},
   "outputs": [
    {
     "data": {
      "text/plain": [
       "7006652"
      ]
     },
     "execution_count": 158,
     "metadata": {},
     "output_type": "execute_result"
    }
   ],
   "source": [
    "1234 * 5678"
   ]
  },
  {
   "cell_type": "code",
   "execution_count": 161,
   "metadata": {},
   "outputs": [
    {
     "data": {
      "text/plain": [
       "7006652"
      ]
     },
     "execution_count": 161,
     "metadata": {},
     "output_type": "execute_result"
    }
   ],
   "source": [
    "karatsuba(1234, 5678)"
   ]
  },
  {
   "cell_type": "code",
   "execution_count": null,
   "metadata": {},
   "outputs": [],
   "source": []
  }
 ],
 "metadata": {
  "kernelspec": {
   "display_name": "Python 3",
   "language": "python",
   "name": "python3"
  },
  "language_info": {
   "codemirror_mode": {
    "name": "ipython",
    "version": 3
   },
   "file_extension": ".py",
   "mimetype": "text/x-python",
   "name": "python",
   "nbconvert_exporter": "python",
   "pygments_lexer": "ipython3",
   "version": "3.7.9"
  }
 },
 "nbformat": 4,
 "nbformat_minor": 4
}
